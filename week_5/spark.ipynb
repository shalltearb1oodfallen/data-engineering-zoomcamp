{
 "cells": [
  {
   "cell_type": "code",
   "execution_count": 31,
   "id": "f92a6ce4-2890-435d-a72c-ae055b788e92",
   "metadata": {
    "tags": []
   },
   "outputs": [],
   "source": [
    "import pyspark\n",
    "from pyspark.sql import SparkSession\n",
    "from pyspark.sql import types\n",
    "from pyspark.sql.functions import *"
   ]
  },
  {
   "cell_type": "code",
   "execution_count": 18,
   "id": "e4d2dd93-9de7-484e-b448-41f5f5504919",
   "metadata": {
    "tags": []
   },
   "outputs": [],
   "source": [
    "spark = SparkSession.builder \\\n",
    "        .master(\"local[*]\") \\\n",
    "        .appName('test') \\\n",
    "        .getOrCreate()"
   ]
  },
  {
   "cell_type": "code",
   "execution_count": 19,
   "id": "fda32d90-1598-4822-8a87-cfa83643b6e1",
   "metadata": {
    "tags": []
   },
   "outputs": [
    {
     "name": "stderr",
     "output_type": "stream",
     "text": [
      "[Stage 4:>                                                          (0 + 1) / 1]\r"
     ]
    }
   ],
   "source": [
    "df = spark.read \\\n",
    "    .option(\"header\", \"true\") \\\n",
    "    .csv(\"fhvhv_tripdata_2021-06.csv.gz\")"
   ]
  },
  {
   "cell_type": "code",
   "execution_count": 20,
   "id": "472206a9-f109-4a61-b31c-7a0cf42a5f9a",
   "metadata": {
    "tags": []
   },
   "outputs": [],
   "source": [
    "schema = types.StructType([\n",
    "    types.StructField('dispatching_base_num', types.StringType(), True),\n",
    "    types.StructField('pickup_datetime', types.TimestampType(), True),\n",
    "    types.StructField('dropoff_datetime', types.TimestampType(), True),\n",
    "    types.StructField('PULocationID', types.IntegerType(), True),\n",
    "    types.StructField('DOLocationID', types.IntegerType(), True),\n",
    "    types.StructField('SR_Flag', types.StringType(), True),\n",
    "    types.StructField('Affiliated_base_number', types.IntegerType(), True)\n",
    "])"
   ]
  },
  {
   "cell_type": "code",
   "execution_count": 21,
   "id": "e0f8b491-29e5-4676-9da5-7f81e602e42f",
   "metadata": {
    "tags": []
   },
   "outputs": [
    {
     "name": "stderr",
     "output_type": "stream",
     "text": [
      "[Stage 4:>                  (0 + 1) / 1][Stage 6:>                  (0 + 1) / 1]\r"
     ]
    },
    {
     "name": "stdout",
     "output_type": "stream",
     "text": [
      "23/03/03 22:35:15 WARN TaskSetManager: Lost task 0.0 in stage 4.0 (TID 4) (dainstudios executor driver): TaskKilled (Stage cancelled)\n"
     ]
    },
    {
     "name": "stderr",
     "output_type": "stream",
     "text": [
      "[Stage 6:>                                                          (0 + 1) / 1]\r"
     ]
    },
    {
     "name": "stdout",
     "output_type": "stream",
     "text": [
      "23/03/03 22:35:53 WARN MemoryManager: Total allocation exceeds 95.00% (1,020,054,720 bytes) of heap memory\n",
      "Scaling row group sizes to 95.00% for 8 writers\n",
      "23/03/03 22:35:53 WARN MemoryManager: Total allocation exceeds 95.00% (1,020,054,720 bytes) of heap memory\n",
      "Scaling row group sizes to 84.44% for 9 writers\n",
      "23/03/03 22:35:53 WARN MemoryManager: Total allocation exceeds 95.00% (1,020,054,720 bytes) of heap memory\n",
      "Scaling row group sizes to 76.00% for 10 writers\n",
      "23/03/03 22:35:53 WARN MemoryManager: Total allocation exceeds 95.00% (1,020,054,720 bytes) of heap memory\n",
      "Scaling row group sizes to 69.09% for 11 writers\n",
      "23/03/03 22:35:53 WARN MemoryManager: Total allocation exceeds 95.00% (1,020,054,720 bytes) of heap memory\n",
      "Scaling row group sizes to 63.33% for 12 writers\n"
     ]
    },
    {
     "name": "stderr",
     "output_type": "stream",
     "text": [
      "[Stage 8:>                                                        (0 + 12) / 12]\r"
     ]
    },
    {
     "name": "stdout",
     "output_type": "stream",
     "text": [
      "23/03/03 22:35:57 WARN MemoryManager: Total allocation exceeds 95.00% (1,020,054,720 bytes) of heap memory\n",
      "Scaling row group sizes to 69.09% for 11 writers\n",
      "23/03/03 22:35:57 WARN MemoryManager: Total allocation exceeds 95.00% (1,020,054,720 bytes) of heap memory\n",
      "Scaling row group sizes to 76.00% for 10 writers\n",
      "23/03/03 22:35:57 WARN MemoryManager: Total allocation exceeds 95.00% (1,020,054,720 bytes) of heap memory\n",
      "Scaling row group sizes to 84.44% for 9 writers\n",
      "23/03/03 22:35:57 WARN MemoryManager: Total allocation exceeds 95.00% (1,020,054,720 bytes) of heap memory\n",
      "Scaling row group sizes to 95.00% for 8 writers\n"
     ]
    },
    {
     "name": "stderr",
     "output_type": "stream",
     "text": [
      "                                                                                \r"
     ]
    }
   ],
   "source": [
    "df = spark.read \\\n",
    "    .option(\"header\", \"true\") \\\n",
    "    .schema(schema) \\\n",
    "    .csv('fhvhv_tripdata_2021-06.csv.gz')\n",
    "\n",
    "df = df.repartition(12)\n",
    "\n",
    "df.write.parquet('task_2')"
   ]
  },
  {
   "cell_type": "markdown",
   "id": "4c799be9-4e55-4257-afa7-b9b0b0ec3895",
   "metadata": {
    "tags": []
   },
   "source": [
    "Question 3"
   ]
  },
  {
   "cell_type": "code",
   "execution_count": 27,
   "id": "41d5c7da-c84d-462f-baa1-70ecdf514ff0",
   "metadata": {
    "tags": []
   },
   "outputs": [
    {
     "name": "stderr",
     "output_type": "stream",
     "text": [
      "                                                                                \r"
     ]
    },
    {
     "data": {
      "text/plain": [
       "452470"
      ]
     },
     "execution_count": 27,
     "metadata": {},
     "output_type": "execute_result"
    }
   ],
   "source": [
    "df.select('*').where((df.pickup_datetime >= '2021-06-15') & (df.pickup_datetime < '2021-06-16')).count()"
   ]
  },
  {
   "cell_type": "markdown",
   "id": "3dc2e177-66e7-4693-9e0e-273745fb9700",
   "metadata": {
    "tags": []
   },
   "source": [
    "Question 4"
   ]
  },
  {
   "cell_type": "code",
   "execution_count": 35,
   "id": "8cccab8a-e777-4111-a0fb-13c4197c32dc",
   "metadata": {
    "tags": []
   },
   "outputs": [
    {
     "name": "stderr",
     "output_type": "stream",
     "text": [
      "[Stage 35:====>                                                   (1 + 11) / 12]\r"
     ]
    },
    {
     "name": "stdout",
     "output_type": "stream",
     "text": [
      "+--------------------+-------------------+-------------------+------------+------------+-------+----------------------+-------------+------------------+\n",
      "|dispatching_base_num|pickup_datetime    |dropoff_datetime   |PULocationID|DOLocationID|SR_Flag|Affiliated_base_number|DiffInSeconds|DiffInHours       |\n",
      "+--------------------+-------------------+-------------------+------------+------------+-------+----------------------+-------------+------------------+\n",
      "|B02872              |2021-06-25 13:55:41|2021-06-28 08:48:25|98          |265         |N      |null                  |240764       |66.8788888888889  |\n",
      "|B02765              |2021-06-22 12:09:45|2021-06-23 13:42:44|188         |198         |N      |null                  |91979        |25.549722222222222|\n",
      "|B02879              |2021-06-27 10:32:29|2021-06-28 06:31:20|78          |169         |N      |null                  |71931        |19.980833333333333|\n",
      "|B02800              |2021-06-26 22:37:11|2021-06-27 16:49:01|263         |36          |N      |null                  |65510        |18.197222222222223|\n",
      "|B02682              |2021-06-23 20:40:43|2021-06-24 13:08:44|3           |247         |N      |null                  |59281        |16.466944444444444|\n",
      "|B02869              |2021-06-23 22:03:31|2021-06-24 12:19:39|186         |216         |N      |null                  |51368        |14.268888888888888|\n",
      "|B02877              |2021-06-24 23:11:00|2021-06-25 13:05:35|181         |61          |N      |null                  |50075        |13.909722222222221|\n",
      "|B02765              |2021-06-04 20:56:02|2021-06-05 08:36:14|53          |252         |N      |null                  |42012        |11.67             |\n",
      "|B02617              |2021-06-27 07:45:19|2021-06-27 19:07:16|187         |245         |N      |null                  |40917        |11.365833333333333|\n",
      "|B02880              |2021-06-20 17:05:12|2021-06-21 04:04:16|144         |231         |N      |null                  |39544        |10.984444444444444|\n",
      "|B02866              |2021-06-01 12:25:29|2021-06-01 22:41:32|87          |265         |N      |null                  |36963        |10.2675           |\n",
      "|B02882              |2021-06-28 13:13:59|2021-06-28 23:11:58|39          |131         |N      |null                  |35879        |9.966388888888888 |\n",
      "|B02510              |2021-06-01 12:01:46|2021-06-01 21:59:45|17          |37          |N      |null                  |35879        |9.966388888888888 |\n",
      "|B02510              |2021-06-27 03:52:14|2021-06-27 13:30:30|42          |242         |N      |null                  |34696        |9.637777777777778 |\n",
      "|B02510              |2021-06-18 08:50:29|2021-06-18 18:27:57|39          |216         |N      |null                  |34648        |9.624444444444444 |\n",
      "|B02510              |2021-06-08 16:38:14|2021-06-09 02:07:03|106         |102         |N      |null                  |34129        |9.480277777777777 |\n",
      "|B02800              |2021-06-11 23:26:20|2021-06-12 08:54:38|132         |140         |N      |null                  |34098        |9.471666666666666 |\n",
      "|B02510              |2021-06-15 06:47:22|2021-06-15 16:11:30|141         |232         |N      |null                  |33848        |9.402222222222223 |\n",
      "|B02510              |2021-06-25 02:32:24|2021-06-25 11:56:01|87          |145         |N      |null                  |33817        |9.393611111111111 |\n",
      "|B02764              |2021-06-04 17:41:23|2021-06-05 03:04:00|26          |238         |N      |null                  |33757        |9.376944444444444 |\n",
      "+--------------------+-------------------+-------------------+------------+------------+-------+----------------------+-------------+------------------+\n",
      "only showing top 20 rows\n",
      "\n"
     ]
    },
    {
     "name": "stderr",
     "output_type": "stream",
     "text": [
      "                                                                                \r"
     ]
    }
   ],
   "source": [
    "df.withColumn('DiffInSeconds',col(\"dropoff_datetime\").cast(\"long\") - col('pickup_datetime').cast(\"long\")).withColumn(\"DiffInHours\",col(\"DiffInSeconds\")/3600) \\\n",
    ".orderBy(col(\"DiffInHours\").desc()).show(truncate=False)"
   ]
  },
  {
   "cell_type": "code",
   "execution_count": 36,
   "id": "3e33c289-b995-4689-a1b3-3d37eebefce6",
   "metadata": {
    "tags": []
   },
   "outputs": [],
   "source": [
    "df2 = spark.read \\\n",
    "    .option(\"header\", \"true\") \\\n",
    "    .csv(\"taxi_zone_lookup.csv\")"
   ]
  },
  {
   "cell_type": "code",
   "execution_count": 37,
   "id": "b45f03fd-8ea5-4332-8292-76309987d097",
   "metadata": {
    "tags": []
   },
   "outputs": [
    {
     "name": "stdout",
     "output_type": "stream",
     "text": [
      "+----------+-------------+--------------------+------------+\n",
      "|LocationID|      Borough|                Zone|service_zone|\n",
      "+----------+-------------+--------------------+------------+\n",
      "|         1|          EWR|      Newark Airport|         EWR|\n",
      "|         2|       Queens|         Jamaica Bay|   Boro Zone|\n",
      "|         3|        Bronx|Allerton/Pelham G...|   Boro Zone|\n",
      "|         4|    Manhattan|       Alphabet City| Yellow Zone|\n",
      "|         5|Staten Island|       Arden Heights|   Boro Zone|\n",
      "|         6|Staten Island|Arrochar/Fort Wad...|   Boro Zone|\n",
      "|         7|       Queens|             Astoria|   Boro Zone|\n",
      "|         8|       Queens|        Astoria Park|   Boro Zone|\n",
      "|         9|       Queens|          Auburndale|   Boro Zone|\n",
      "|        10|       Queens|        Baisley Park|   Boro Zone|\n",
      "|        11|     Brooklyn|          Bath Beach|   Boro Zone|\n",
      "|        12|    Manhattan|        Battery Park| Yellow Zone|\n",
      "|        13|    Manhattan|   Battery Park City| Yellow Zone|\n",
      "|        14|     Brooklyn|           Bay Ridge|   Boro Zone|\n",
      "|        15|       Queens|Bay Terrace/Fort ...|   Boro Zone|\n",
      "|        16|       Queens|             Bayside|   Boro Zone|\n",
      "|        17|     Brooklyn|             Bedford|   Boro Zone|\n",
      "|        18|        Bronx|        Bedford Park|   Boro Zone|\n",
      "|        19|       Queens|           Bellerose|   Boro Zone|\n",
      "|        20|        Bronx|             Belmont|   Boro Zone|\n",
      "+----------+-------------+--------------------+------------+\n",
      "only showing top 20 rows\n",
      "\n"
     ]
    }
   ],
   "source": [
    "df2.show()"
   ]
  },
  {
   "cell_type": "code",
   "execution_count": 39,
   "id": "3d23b00e-69d8-400d-962d-295f948b900e",
   "metadata": {
    "tags": []
   },
   "outputs": [],
   "source": [
    "df3 = df.join(df2,df.PULocationID ==  df2.LocationID,\"inner\")"
   ]
  },
  {
   "cell_type": "code",
   "execution_count": 47,
   "id": "e919f7f6-dcb9-4e5b-bd75-462c6da07420",
   "metadata": {
    "tags": []
   },
   "outputs": [
    {
     "name": "stderr",
     "output_type": "stream",
     "text": [
      "[Stage 49:>                                                         (0 + 1) / 1]\r"
     ]
    },
    {
     "name": "stdout",
     "output_type": "stream",
     "text": [
      "+-------------------------+------+\n",
      "|Zone                     |count |\n",
      "+-------------------------+------+\n",
      "|Crown Heights North      |231279|\n",
      "|East Village             |221244|\n",
      "|JFK Airport              |188867|\n",
      "|Bushwick South           |187929|\n",
      "|East New York            |186780|\n",
      "|TriBeCa/Civic Center     |164344|\n",
      "|LaGuardia Airport        |161596|\n",
      "|Union Sq                 |158937|\n",
      "|West Village             |154698|\n",
      "|Astoria                  |152493|\n",
      "|Lower East Side          |151020|\n",
      "|East Chelsea             |147673|\n",
      "|Central Harlem North     |146402|\n",
      "|Williamsburg (North Side)|143683|\n",
      "|Park Slope               |143594|\n",
      "|Stuyvesant Heights       |141427|\n",
      "|Clinton East             |139611|\n",
      "|West Chelsea/Hudson Yards|139431|\n",
      "|Bedford                  |138428|\n",
      "|Murray Hill              |137879|\n",
      "+-------------------------+------+\n",
      "only showing top 20 rows\n",
      "\n"
     ]
    },
    {
     "name": "stderr",
     "output_type": "stream",
     "text": [
      "                                                                                \r"
     ]
    }
   ],
   "source": [
    "df3.groupBy(\"Zone\").count().orderBy(col(\"count\").desc()).show(truncate=False)"
   ]
  },
  {
   "cell_type": "code",
   "execution_count": null,
   "id": "070d935b-5f65-4f8a-b7b2-b4ac0c773093",
   "metadata": {},
   "outputs": [],
   "source": []
  }
 ],
 "metadata": {
  "kernelspec": {
   "display_name": "Python 3 (ipykernel)",
   "language": "python",
   "name": "python3"
  },
  "language_info": {
   "codemirror_mode": {
    "name": "ipython",
    "version": 3
   },
   "file_extension": ".py",
   "mimetype": "text/x-python",
   "name": "python",
   "nbconvert_exporter": "python",
   "pygments_lexer": "ipython3",
   "version": "3.9.16"
  }
 },
 "nbformat": 4,
 "nbformat_minor": 5
}
